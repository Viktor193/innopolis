{
  "nbformat": 4,
  "nbformat_minor": 0,
  "metadata": {
    "colab": {
      "name": "Задание по теме 2.2.2.ipynb",
      "provenance": [],
      "collapsed_sections": [],
      "authorship_tag": "ABX9TyPOZCUACYR8gPLyV7ItZeuf",
      "include_colab_link": true
    },
    "kernelspec": {
      "name": "python3",
      "display_name": "Python 3"
    },
    "language_info": {
      "name": "python"
    }
  },
  "cells": [
    {
      "cell_type": "markdown",
      "metadata": {
        "id": "view-in-github",
        "colab_type": "text"
      },
      "source": [
        "<a href=\"https://colab.research.google.com/github/Viktor193/innopolis/blob/main/%D0%97%D0%B0%D0%B4%D0%B0%D0%BD%D0%B8%D0%B5_%D0%BF%D0%BE_%D1%82%D0%B5%D0%BC%D0%B5_2_2_2.ipynb\" target=\"_parent\"><img src=\"https://colab.research.google.com/assets/colab-badge.svg\" alt=\"Open In Colab\"/></a>"
      ]
    },
    {
      "cell_type": "code",
      "execution_count": 5,
      "metadata": {
        "id": "8IqQ2HE5GunK"
      },
      "outputs": [],
      "source": [
        "import numpy as np"
      ]
    },
    {
      "cell_type": "code",
      "source": [
        "# https://archive.ics.uci.edu/ml/machine-learning-databases/iris/iris.data\n"
      ],
      "metadata": {
        "id": "r_BqpvfICYdH"
      },
      "execution_count": null,
      "outputs": []
    },
    {
      "cell_type": "code",
      "source": [
        "# 1. Загрузите датасет с помощью функции np.genfromtxt()\n",
        "url='https://archive.ics.uci.edu/ml/machine-learning-databases/iris/iris.data'\n",
        "iris=np.genfromtxt(url,delimiter=',',dtype='object')"
      ],
      "metadata": {
        "id": "LRXRhZFQDB4V"
      },
      "execution_count": 6,
      "outputs": []
    },
    {
      "cell_type": "code",
      "source": [
        "iris[:10]"
      ],
      "metadata": {
        "colab": {
          "base_uri": "https://localhost:8080/"
        },
        "id": "zC5gQFOQDXp-",
        "outputId": "46b823f5-7416-41db-c22e-4eba2453c50c"
      },
      "execution_count": 7,
      "outputs": [
        {
          "output_type": "execute_result",
          "data": {
            "text/plain": [
              "array([[b'5.1', b'3.5', b'1.4', b'0.2', b'Iris-setosa'],\n",
              "       [b'4.9', b'3.0', b'1.4', b'0.2', b'Iris-setosa'],\n",
              "       [b'4.7', b'3.2', b'1.3', b'0.2', b'Iris-setosa'],\n",
              "       [b'4.6', b'3.1', b'1.5', b'0.2', b'Iris-setosa'],\n",
              "       [b'5.0', b'3.6', b'1.4', b'0.2', b'Iris-setosa'],\n",
              "       [b'5.4', b'3.9', b'1.7', b'0.4', b'Iris-setosa'],\n",
              "       [b'4.6', b'3.4', b'1.4', b'0.3', b'Iris-setosa'],\n",
              "       [b'5.0', b'3.4', b'1.5', b'0.2', b'Iris-setosa'],\n",
              "       [b'4.4', b'2.9', b'1.4', b'0.2', b'Iris-setosa'],\n",
              "       [b'4.9', b'3.1', b'1.5', b'0.1', b'Iris-setosa']], dtype=object)"
            ]
          },
          "metadata": {},
          "execution_count": 7
        }
      ]
    },
    {
      "cell_type": "code",
      "source": [
        "iris.shape"
      ],
      "metadata": {
        "colab": {
          "base_uri": "https://localhost:8080/"
        },
        "id": "4B2SqqtbDdhT",
        "outputId": "00934513-abba-4ba7-aef5-0fd691d30fc8"
      },
      "execution_count": 8,
      "outputs": [
        {
          "output_type": "execute_result",
          "data": {
            "text/plain": [
              "(150, 5)"
            ]
          },
          "metadata": {},
          "execution_count": 8
        }
      ]
    },
    {
      "cell_type": "code",
      "source": [
        "art1=np.genfromtxt(url,delimiter=',',dtype='float',usecols=[0])\n",
        "art1\n",
        "art2=np.genfromtxt(url,delimiter=',',dtype='float',usecols=[1])\n",
        "art2\n",
        "art3=np.genfromtxt(url,delimiter=',',dtype='float',usecols=[2])\n",
        "art3\n",
        "art4=np.genfromtxt(url,delimiter=',',dtype='float',usecols=[3])\n",
        "art4\n",
        "atr_5 = np.genfromtxt(url, delimiter=',', dtype='str', usecols=[4])\n",
        "atr_5"
      ],
      "metadata": {
        "colab": {
          "base_uri": "https://localhost:8080/"
        },
        "id": "qEmdtSCjDg77",
        "outputId": "7cc9c6fb-deff-4e03-e7ff-75e1570bdb25"
      },
      "execution_count": 11,
      "outputs": [
        {
          "output_type": "execute_result",
          "data": {
            "text/plain": [
              "array(['Iris-setosa', 'Iris-setosa', 'Iris-setosa', 'Iris-setosa',\n",
              "       'Iris-setosa', 'Iris-setosa', 'Iris-setosa', 'Iris-setosa',\n",
              "       'Iris-setosa', 'Iris-setosa', 'Iris-setosa', 'Iris-setosa',\n",
              "       'Iris-setosa', 'Iris-setosa', 'Iris-setosa', 'Iris-setosa',\n",
              "       'Iris-setosa', 'Iris-setosa', 'Iris-setosa', 'Iris-setosa',\n",
              "       'Iris-setosa', 'Iris-setosa', 'Iris-setosa', 'Iris-setosa',\n",
              "       'Iris-setosa', 'Iris-setosa', 'Iris-setosa', 'Iris-setosa',\n",
              "       'Iris-setosa', 'Iris-setosa', 'Iris-setosa', 'Iris-setosa',\n",
              "       'Iris-setosa', 'Iris-setosa', 'Iris-setosa', 'Iris-setosa',\n",
              "       'Iris-setosa', 'Iris-setosa', 'Iris-setosa', 'Iris-setosa',\n",
              "       'Iris-setosa', 'Iris-setosa', 'Iris-setosa', 'Iris-setosa',\n",
              "       'Iris-setosa', 'Iris-setosa', 'Iris-setosa', 'Iris-setosa',\n",
              "       'Iris-setosa', 'Iris-setosa', 'Iris-versicolor', 'Iris-versicolor',\n",
              "       'Iris-versicolor', 'Iris-versicolor', 'Iris-versicolor',\n",
              "       'Iris-versicolor', 'Iris-versicolor', 'Iris-versicolor',\n",
              "       'Iris-versicolor', 'Iris-versicolor', 'Iris-versicolor',\n",
              "       'Iris-versicolor', 'Iris-versicolor', 'Iris-versicolor',\n",
              "       'Iris-versicolor', 'Iris-versicolor', 'Iris-versicolor',\n",
              "       'Iris-versicolor', 'Iris-versicolor', 'Iris-versicolor',\n",
              "       'Iris-versicolor', 'Iris-versicolor', 'Iris-versicolor',\n",
              "       'Iris-versicolor', 'Iris-versicolor', 'Iris-versicolor',\n",
              "       'Iris-versicolor', 'Iris-versicolor', 'Iris-versicolor',\n",
              "       'Iris-versicolor', 'Iris-versicolor', 'Iris-versicolor',\n",
              "       'Iris-versicolor', 'Iris-versicolor', 'Iris-versicolor',\n",
              "       'Iris-versicolor', 'Iris-versicolor', 'Iris-versicolor',\n",
              "       'Iris-versicolor', 'Iris-versicolor', 'Iris-versicolor',\n",
              "       'Iris-versicolor', 'Iris-versicolor', 'Iris-versicolor',\n",
              "       'Iris-versicolor', 'Iris-versicolor', 'Iris-versicolor',\n",
              "       'Iris-versicolor', 'Iris-versicolor', 'Iris-versicolor',\n",
              "       'Iris-virginica', 'Iris-virginica', 'Iris-virginica',\n",
              "       'Iris-virginica', 'Iris-virginica', 'Iris-virginica',\n",
              "       'Iris-virginica', 'Iris-virginica', 'Iris-virginica',\n",
              "       'Iris-virginica', 'Iris-virginica', 'Iris-virginica',\n",
              "       'Iris-virginica', 'Iris-virginica', 'Iris-virginica',\n",
              "       'Iris-virginica', 'Iris-virginica', 'Iris-virginica',\n",
              "       'Iris-virginica', 'Iris-virginica', 'Iris-virginica',\n",
              "       'Iris-virginica', 'Iris-virginica', 'Iris-virginica',\n",
              "       'Iris-virginica', 'Iris-virginica', 'Iris-virginica',\n",
              "       'Iris-virginica', 'Iris-virginica', 'Iris-virginica',\n",
              "       'Iris-virginica', 'Iris-virginica', 'Iris-virginica',\n",
              "       'Iris-virginica', 'Iris-virginica', 'Iris-virginica',\n",
              "       'Iris-virginica', 'Iris-virginica', 'Iris-virginica',\n",
              "       'Iris-virginica', 'Iris-virginica', 'Iris-virginica',\n",
              "       'Iris-virginica', 'Iris-virginica', 'Iris-virginica',\n",
              "       'Iris-virginica', 'Iris-virginica', 'Iris-virginica',\n",
              "       'Iris-virginica', 'Iris-virginica'], dtype='<U15')"
            ]
          },
          "metadata": {},
          "execution_count": 11
        }
      ]
    },
    {
      "cell_type": "code",
      "source": [
        "# 2)Вычислите простейшие статистики: min, max, median, mean, 0.25-percentile,0.75-percentile для каждого из числовых атрибутов в датасете\n",
        "atrs = []\n",
        "for i in range(4):\n",
        "    atrs.append(np.genfromtxt(url, delimiter=',', dtype='float', usecols=[i]))\n",
        "\n",
        "for i in range(len(atrs)):\n",
        "  print(f'Атрибут {i}:')\n",
        "  print(f'Среднее = ', np.mean(atrs[i]))\n",
        "  print(f'Минимум = ', np.min(atrs[i]))\n",
        "  print(f'Максимум = ', np.max(atrs[i]))\n",
        "  print(f'Медиана = ', np.median(atrs[i]))\n",
        "  print(f'Персентиль 0.25 = ', np.percentile(atrs[i], 25))\n",
        "  print(f'Персентиль 0.75 = ', np.percentile(atrs[i], 75))\n",
        "  print('\\n')"
      ],
      "metadata": {
        "colab": {
          "base_uri": "https://localhost:8080/"
        },
        "id": "ILws7zyOD-Ek",
        "outputId": "958e0722-e5f9-435f-ee57-1858b2e6800c"
      },
      "execution_count": 12,
      "outputs": [
        {
          "output_type": "stream",
          "name": "stdout",
          "text": [
            "Атрибут 0:\n",
            "Среднее =  5.843333333333334\n",
            "Минимум =  4.3\n",
            "Максимум =  7.9\n",
            "Медиана =  5.8\n",
            "Персентиль 0.25 =  5.1\n",
            "Персентиль 0.75 =  6.4\n",
            "\n",
            "\n",
            "Атрибут 1:\n",
            "Среднее =  3.0540000000000003\n",
            "Минимум =  2.0\n",
            "Максимум =  4.4\n",
            "Медиана =  3.0\n",
            "Персентиль 0.25 =  2.8\n",
            "Персентиль 0.75 =  3.3\n",
            "\n",
            "\n",
            "Атрибут 2:\n",
            "Среднее =  3.758666666666666\n",
            "Минимум =  1.0\n",
            "Максимум =  6.9\n",
            "Медиана =  4.35\n",
            "Персентиль 0.25 =  1.6\n",
            "Персентиль 0.75 =  5.1\n",
            "\n",
            "\n",
            "Атрибут 3:\n",
            "Среднее =  1.1986666666666668\n",
            "Минимум =  0.1\n",
            "Максимум =  2.5\n",
            "Медиана =  1.3\n",
            "Персентиль 0.25 =  0.3\n",
            "Персентиль 0.75 =  1.8\n",
            "\n",
            "\n"
          ]
        }
      ]
    },
    {
      "cell_type": "code",
      "source": [
        "# 3)Постройте гистограмму для каждого из числовых атрибутов в датасете\n",
        "import matplotlib.pyplot as plt\n",
        "atrs = []\n",
        "for i in range(4):\n",
        "    atrs.append(np.genfromtxt(url, delimiter=',', dtype='float', usecols=[i]))\n",
        "\n",
        "fig = plt.figure()\n",
        "fig.set_figheight(4)\n",
        "fig.set_figwidth(20)\n",
        "subplt = 1\n",
        "\n",
        "for i in range(len(atrs)):\n",
        "  ax = fig.add_subplot(1,len(atrs),subplt).set(title = f'Гистограмма для атрибута {i}')\n",
        "  plt.hist(atrs[i])\n",
        "  subplt += 1\n",
        "plt.tight_layout()\n",
        "plt.show()\n",
        "\n",
        "\n"
      ],
      "metadata": {
        "colab": {
          "base_uri": "https://localhost:8080/",
          "height": 297
        },
        "id": "blvng-ndIIGU",
        "outputId": "57708aca-de27-4f29-cd6b-c977c19951a8"
      },
      "execution_count": 80,
      "outputs": [
        {
          "output_type": "display_data",
          "data": {
            "image/png": "[encoded data removed]",
            "text/plain": [
              "<Figure size 1440x288 with 4 Axes>"
            ]
          },
          "metadata": {
            "needs_background": "light"
          }
        }
      ]
    },
    {
      "cell_type": "code",
      "source": [
        "# 4)Сгруппируйте датасет по категории (последний столбец датасета) и повторитешаги 2 и 3 для групп\n",
        "number_atrs = []\n",
        "for i in range(4):\n",
        "    number_atrs.append(np.genfromtxt(url, delimiter=',', dtype='float', usecols=[i]))\n"
      ],
      "metadata": {
        "id": "Yg5kHQvKJsKF"
      },
      "execution_count": 96,
      "outputs": []
    },
    {
      "cell_type": "code",
      "source": [
        "new_number_atrs = []\n",
        "for i in range(len(number_atrs)):\n",
        "    for group_val in np.unique(atr_5):\n",
        "        new_number_atrs.append([i, group_val, number_atrs[i][atr_5==group_val]])\n",
        "new_number_atrs"
      ],
      "metadata": {
        "id": "7-y6fTcLgzXP",
        "colab": {
          "base_uri": "https://localhost:8080/"
        },
        "outputId": "91fd751a-d0c8-4cc4-8cde-e64fd4d851a8"
      },
      "execution_count": 97,
      "outputs": [
        {
          "output_type": "execute_result",
          "data": {
            "text/plain": [
              "[[0,\n",
              "  'Iris-setosa',\n",
              "  array([5.1, 4.9, 4.7, 4.6, 5. , 5.4, 4.6, 5. , 4.4, 4.9, 5.4, 4.8, 4.8,\n",
              "         4.3, 5.8, 5.7, 5.4, 5.1, 5.7, 5.1, 5.4, 5.1, 4.6, 5.1, 4.8, 5. ,\n",
              "         5. , 5.2, 5.2, 4.7, 4.8, 5.4, 5.2, 5.5, 4.9, 5. , 5.5, 4.9, 4.4,\n",
              "         5.1, 5. , 4.5, 4.4, 5. , 5.1, 4.8, 5.1, 4.6, 5.3, 5. ])],\n",
              " [0,\n",
              "  'Iris-versicolor',\n",
              "  array([7. , 6.4, 6.9, 5.5, 6.5, 5.7, 6.3, 4.9, 6.6, 5.2, 5. , 5.9, 6. ,\n",
              "         6.1, 5.6, 6.7, 5.6, 5.8, 6.2, 5.6, 5.9, 6.1, 6.3, 6.1, 6.4, 6.6,\n",
              "         6.8, 6.7, 6. , 5.7, 5.5, 5.5, 5.8, 6. , 5.4, 6. , 6.7, 6.3, 5.6,\n",
              "         5.5, 5.5, 6.1, 5.8, 5. , 5.6, 5.7, 5.7, 6.2, 5.1, 5.7])],\n",
              " [0,\n",
              "  'Iris-virginica',\n",
              "  array([6.3, 5.8, 7.1, 6.3, 6.5, 7.6, 4.9, 7.3, 6.7, 7.2, 6.5, 6.4, 6.8,\n",
              "         5.7, 5.8, 6.4, 6.5, 7.7, 7.7, 6. , 6.9, 5.6, 7.7, 6.3, 6.7, 7.2,\n",
              "         6.2, 6.1, 6.4, 7.2, 7.4, 7.9, 6.4, 6.3, 6.1, 7.7, 6.3, 6.4, 6. ,\n",
              "         6.9, 6.7, 6.9, 5.8, 6.8, 6.7, 6.7, 6.3, 6.5, 6.2, 5.9])],\n",
              " [1,\n",
              "  'Iris-setosa',\n",
              "  array([3.5, 3. , 3.2, 3.1, 3.6, 3.9, 3.4, 3.4, 2.9, 3.1, 3.7, 3.4, 3. ,\n",
              "         3. , 4. , 4.4, 3.9, 3.5, 3.8, 3.8, 3.4, 3.7, 3.6, 3.3, 3.4, 3. ,\n",
              "         3.4, 3.5, 3.4, 3.2, 3.1, 3.4, 4.1, 4.2, 3.1, 3.2, 3.5, 3.1, 3. ,\n",
              "         3.4, 3.5, 2.3, 3.2, 3.5, 3.8, 3. , 3.8, 3.2, 3.7, 3.3])],\n",
              " [1,\n",
              "  'Iris-versicolor',\n",
              "  array([3.2, 3.2, 3.1, 2.3, 2.8, 2.8, 3.3, 2.4, 2.9, 2.7, 2. , 3. , 2.2,\n",
              "         2.9, 2.9, 3.1, 3. , 2.7, 2.2, 2.5, 3.2, 2.8, 2.5, 2.8, 2.9, 3. ,\n",
              "         2.8, 3. , 2.9, 2.6, 2.4, 2.4, 2.7, 2.7, 3. , 3.4, 3.1, 2.3, 3. ,\n",
              "         2.5, 2.6, 3. , 2.6, 2.3, 2.7, 3. , 2.9, 2.9, 2.5, 2.8])],\n",
              " [1,\n",
              "  'Iris-virginica',\n",
              "  array([3.3, 2.7, 3. , 2.9, 3. , 3. , 2.5, 2.9, 2.5, 3.6, 3.2, 2.7, 3. ,\n",
              "         2.5, 2.8, 3.2, 3. , 3.8, 2.6, 2.2, 3.2, 2.8, 2.8, 2.7, 3.3, 3.2,\n",
              "         2.8, 3. , 2.8, 3. , 2.8, 3.8, 2.8, 2.8, 2.6, 3. , 3.4, 3.1, 3. ,\n",
              "         3.1, 3.1, 3.1, 2.7, 3.2, 3.3, 3. , 2.5, 3. , 3.4, 3. ])],\n",
              " [2,\n",
              "  'Iris-setosa',\n",
              "  array([1.4, 1.4, 1.3, 1.5, 1.4, 1.7, 1.4, 1.5, 1.4, 1.5, 1.5, 1.6, 1.4,\n",
              "         1.1, 1.2, 1.5, 1.3, 1.4, 1.7, 1.5, 1.7, 1.5, 1. , 1.7, 1.9, 1.6,\n",
              "         1.6, 1.5, 1.4, 1.6, 1.6, 1.5, 1.5, 1.4, 1.5, 1.2, 1.3, 1.5, 1.3,\n",
              "         1.5, 1.3, 1.3, 1.3, 1.6, 1.9, 1.4, 1.6, 1.4, 1.5, 1.4])],\n",
              " [2,\n",
              "  'Iris-versicolor',\n",
              "  array([4.7, 4.5, 4.9, 4. , 4.6, 4.5, 4.7, 3.3, 4.6, 3.9, 3.5, 4.2, 4. ,\n",
              "         4.7, 3.6, 4.4, 4.5, 4.1, 4.5, 3.9, 4.8, 4. , 4.9, 4.7, 4.3, 4.4,\n",
              "         4.8, 5. , 4.5, 3.5, 3.8, 3.7, 3.9, 5.1, 4.5, 4.5, 4.7, 4.4, 4.1,\n",
              "         4. , 4.4, 4.6, 4. , 3.3, 4.2, 4.2, 4.2, 4.3, 3. , 4.1])],\n",
              " [2,\n",
              "  'Iris-virginica',\n",
              "  array([6. , 5.1, 5.9, 5.6, 5.8, 6.6, 4.5, 6.3, 5.8, 6.1, 5.1, 5.3, 5.5,\n",
              "         5. , 5.1, 5.3, 5.5, 6.7, 6.9, 5. , 5.7, 4.9, 6.7, 4.9, 5.7, 6. ,\n",
              "         4.8, 4.9, 5.6, 5.8, 6.1, 6.4, 5.6, 5.1, 5.6, 6.1, 5.6, 5.5, 4.8,\n",
              "         5.4, 5.6, 5.1, 5.1, 5.9, 5.7, 5.2, 5. , 5.2, 5.4, 5.1])],\n",
              " [3,\n",
              "  'Iris-setosa',\n",
              "  array([0.2, 0.2, 0.2, 0.2, 0.2, 0.4, 0.3, 0.2, 0.2, 0.1, 0.2, 0.2, 0.1,\n",
              "         0.1, 0.2, 0.4, 0.4, 0.3, 0.3, 0.3, 0.2, 0.4, 0.2, 0.5, 0.2, 0.2,\n",
              "         0.4, 0.2, 0.2, 0.2, 0.2, 0.4, 0.1, 0.2, 0.1, 0.2, 0.2, 0.1, 0.2,\n",
              "         0.2, 0.3, 0.3, 0.2, 0.6, 0.4, 0.3, 0.2, 0.2, 0.2, 0.2])],\n",
              " [3,\n",
              "  'Iris-versicolor',\n",
              "  array([1.4, 1.5, 1.5, 1.3, 1.5, 1.3, 1.6, 1. , 1.3, 1.4, 1. , 1.5, 1. ,\n",
              "         1.4, 1.3, 1.4, 1.5, 1. , 1.5, 1.1, 1.8, 1.3, 1.5, 1.2, 1.3, 1.4,\n",
              "         1.4, 1.7, 1.5, 1. , 1.1, 1. , 1.2, 1.6, 1.5, 1.6, 1.5, 1.3, 1.3,\n",
              "         1.3, 1.2, 1.4, 1.2, 1. , 1.3, 1.2, 1.3, 1.3, 1.1, 1.3])],\n",
              " [3,\n",
              "  'Iris-virginica',\n",
              "  array([2.5, 1.9, 2.1, 1.8, 2.2, 2.1, 1.7, 1.8, 1.8, 2.5, 2. , 1.9, 2.1,\n",
              "         2. , 2.4, 2.3, 1.8, 2.2, 2.3, 1.5, 2.3, 2. , 2. , 1.8, 2.1, 1.8,\n",
              "         1.8, 1.8, 2.1, 1.6, 1.9, 2. , 2.2, 1.5, 1.4, 2.3, 2.4, 1.8, 1.8,\n",
              "         2.1, 2.4, 2.3, 1.9, 2.3, 2.5, 2.3, 1.9, 2. , 2.3, 1.8])]]"
            ]
          },
          "metadata": {},
          "execution_count": 97
        }
      ]
    },
    {
      "cell_type": "code",
      "source": [
        "#обращаемся к каждому новому массиву new_number_atrs[i] из нового вложенного списка new_number_atrs\n",
        "for i in range(len(new_number_atrs)):\n",
        "    print(f'Для числового атрибута {new_number_atrs[i][0]+1}  группы {new_number_atrs[i][1]}')\n",
        "    print(f'Среднее = ', np.mean(new_number_atrs[i][2]))\n",
        "    print(f'Минимум = ', np.min(new_number_atrs[i][2]))\n",
        "    print(f'Максимум = ', np.max(new_number_atrs[i][2]))\n",
        "    print(f'Медиана = ', np.median(new_number_atrs[i][2]))\n",
        "    print(f'Персентиль 0.25 = ', np.percentile(new_number_atrs[i][2], 25))\n",
        "    print(f'Персентиль 0.75 = ', np.percentile(new_number_atrs[i][2], 75))\n",
        "    print('\\n')\n",
        "\n"
      ],
      "metadata": {
        "colab": {
          "base_uri": "https://localhost:8080/"
        },
        "id": "aF9jH0Ong62N",
        "outputId": "8f672c7a-1e07-4a06-c5ba-f2b95e03fa32"
      },
      "execution_count": 98,
      "outputs": [
        {
          "output_type": "stream",
          "name": "stdout",
          "text": [
            "Для числового атрибута 1  группы Iris-setosa\n",
            "Среднее =  5.006\n",
            "Минимум =  4.3\n",
            "Максимум =  5.8\n",
            "Медиана =  5.0\n",
            "Персентиль 0.25 =  4.8\n",
            "Персентиль 0.75 =  5.2\n",
            "\n",
            "\n",
            "Для числового атрибута 1  группы Iris-versicolor\n",
            "Среднее =  5.936\n",
            "Минимум =  4.9\n",
            "Максимум =  7.0\n",
            "Медиана =  5.9\n",
            "Персентиль 0.25 =  5.6\n",
            "Персентиль 0.75 =  6.3\n",
            "\n",
            "\n",
            "Для числового атрибута 1  группы Iris-virginica\n",
            "Среднее =  6.587999999999998\n",
            "Минимум =  4.9\n",
            "Максимум =  7.9\n",
            "Медиана =  6.5\n",
            "Персентиль 0.25 =  6.2250000000000005\n",
            "Персентиль 0.75 =  6.9\n",
            "\n",
            "\n",
            "Для числового атрибута 2  группы Iris-setosa\n",
            "Среднее =  3.418\n",
            "Минимум =  2.3\n",
            "Максимум =  4.4\n",
            "Медиана =  3.4\n",
            "Персентиль 0.25 =  3.125\n",
            "Персентиль 0.75 =  3.6750000000000003\n",
            "\n",
            "\n",
            "Для числового атрибута 2  группы Iris-versicolor\n",
            "Среднее =  2.7700000000000005\n",
            "Минимум =  2.0\n",
            "Максимум =  3.4\n",
            "Медиана =  2.8\n",
            "Персентиль 0.25 =  2.525\n",
            "Персентиль 0.75 =  3.0\n",
            "\n",
            "\n",
            "Для числового атрибута 2  группы Iris-virginica\n",
            "Среднее =  2.974\n",
            "Минимум =  2.2\n",
            "Максимум =  3.8\n",
            "Медиана =  3.0\n",
            "Персентиль 0.25 =  2.8\n",
            "Персентиль 0.75 =  3.1750000000000003\n",
            "\n",
            "\n",
            "Для числового атрибута 3  группы Iris-setosa\n",
            "Среднее =  1.464\n",
            "Минимум =  1.0\n",
            "Максимум =  1.9\n",
            "Медиана =  1.5\n",
            "Персентиль 0.25 =  1.4\n",
            "Персентиль 0.75 =  1.5750000000000002\n",
            "\n",
            "\n",
            "Для числового атрибута 3  группы Iris-versicolor\n",
            "Среднее =  4.26\n",
            "Минимум =  3.0\n",
            "Максимум =  5.1\n",
            "Медиана =  4.35\n",
            "Персентиль 0.25 =  4.0\n",
            "Персентиль 0.75 =  4.6\n",
            "\n",
            "\n",
            "Для числового атрибута 3  группы Iris-virginica\n",
            "Среднее =  5.5520000000000005\n",
            "Минимум =  4.5\n",
            "Максимум =  6.9\n",
            "Медиана =  5.55\n",
            "Персентиль 0.25 =  5.1\n",
            "Персентиль 0.75 =  5.875000000000001\n",
            "\n",
            "\n",
            "Для числового атрибута 4  группы Iris-setosa\n",
            "Среднее =  0.244\n",
            "Минимум =  0.1\n",
            "Максимум =  0.6\n",
            "Медиана =  0.2\n",
            "Персентиль 0.25 =  0.2\n",
            "Персентиль 0.75 =  0.3\n",
            "\n",
            "\n",
            "Для числового атрибута 4  группы Iris-versicolor\n",
            "Среднее =  1.3259999999999998\n",
            "Минимум =  1.0\n",
            "Максимум =  1.8\n",
            "Медиана =  1.3\n",
            "Персентиль 0.25 =  1.2\n",
            "Персентиль 0.75 =  1.5\n",
            "\n",
            "\n",
            "Для числового атрибута 4  группы Iris-virginica\n",
            "Среднее =  2.0260000000000002\n",
            "Минимум =  1.4\n",
            "Максимум =  2.5\n",
            "Медиана =  2.0\n",
            "Персентиль 0.25 =  1.8\n",
            "Персентиль 0.75 =  2.3\n",
            "\n",
            "\n"
          ]
        }
      ]
    },
    {
      "cell_type": "code",
      "source": [
        "fig = plt.figure()\n",
        "fig.set_figheight(20)\n",
        "fig.set_figwidth(10)\n",
        "subplt = 1\n",
        "for i in range(len(new_number_atrs)):\n",
        "    ax = fig.add_subplot(len(new_number_atrs)//2,3,subplt).set(title = f'Атрибут {new_number_atrs[i][0]+1} {new_number_atrs[i][1]}')\n",
        "    plt.hist(new_number_atrs[i][2])\n",
        "    subplt +=1\n",
        "plt.tight_layout()\n",
        "plt.show()\n",
        "\n",
        "    \n",
        "\n"
      ],
      "metadata": {
        "colab": {
          "base_uri": "https://localhost:8080/",
          "height": 984
        },
        "id": "1qFQhWoZpKS_",
        "outputId": "82f6ec05-491e-4f65-a3f4-d033952fd0e3"
      },
      "execution_count": 101,
      "outputs": [
        {
          "output_type": "display_data",
          "data": {
            "image/png": "[encoded data removed]",
            "text/plain": [
              "<Figure size 720x1440 with 12 Axes>"
            ]
          },
          "metadata": {
            "needs_background": "light"
          }
        }
      ]
    }
  ]
}